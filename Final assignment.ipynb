{
 "cells": [
  {
   "cell_type": "markdown",
   "id": "33545913",
   "metadata": {},
   "source": [
    "### calculating the % match of the text strings (between the Title and Cause)  -"
   ]
  },
  {
   "cell_type": "code",
   "execution_count": 1,
   "id": "b160a0dc",
   "metadata": {},
   "outputs": [],
   "source": [
    "import pandas as pd\n",
    "import numpy as np"
   ]
  },
  {
   "cell_type": "code",
   "execution_count": 2,
   "id": "597e7252",
   "metadata": {},
   "outputs": [
    {
     "data": {
      "text/html": [
       "<div>\n",
       "<style scoped>\n",
       "    .dataframe tbody tr th:only-of-type {\n",
       "        vertical-align: middle;\n",
       "    }\n",
       "\n",
       "    .dataframe tbody tr th {\n",
       "        vertical-align: top;\n",
       "    }\n",
       "\n",
       "    .dataframe thead th {\n",
       "        text-align: right;\n",
       "    }\n",
       "</style>\n",
       "<table border=\"1\" class=\"dataframe\">\n",
       "  <thead>\n",
       "    <tr style=\"text-align: right;\">\n",
       "      <th></th>\n",
       "      <th>Public Title of Study</th>\n",
       "      <th>Cause1</th>\n",
       "      <th>Cause1 % Match</th>\n",
       "      <th>Cause2</th>\n",
       "      <th>Cause2 % Match</th>\n",
       "      <th>Cause3</th>\n",
       "      <th>Cause3 % Match</th>\n",
       "      <th>Cause4</th>\n",
       "      <th>Cause4 % Match</th>\n",
       "      <th>Cause5</th>\n",
       "      <th>Cause5 % Match</th>\n",
       "      <th>Cause6</th>\n",
       "      <th>Cause6 % Match</th>\n",
       "      <th>Cause7</th>\n",
       "      <th>Cause7 % Match</th>\n",
       "      <th>Cause 'n'</th>\n",
       "      <th>Cause 'n' % Match</th>\n",
       "      <th>Unnamed: 17</th>\n",
       "      <th>List of Causes</th>\n",
       "    </tr>\n",
       "  </thead>\n",
       "  <tbody>\n",
       "    <tr>\n",
       "      <th>0</th>\n",
       "      <td>Study on complications of diabetes and risk of...</td>\n",
       "      <td>Diabetes and kidney diseases</td>\n",
       "      <td>xx% string match</td>\n",
       "      <td>Diabetes mellitus</td>\n",
       "      <td>xx% string match</td>\n",
       "      <td>Congenital heart anomalies</td>\n",
       "      <td>xx% string match</td>\n",
       "      <td>Hypertensive heart disease</td>\n",
       "      <td>xx% string match</td>\n",
       "      <td>Ischemic heart disease</td>\n",
       "      <td>xx% string match</td>\n",
       "      <td>Non-rheumatic valvular heart disease</td>\n",
       "      <td>xx% string match</td>\n",
       "      <td>Rheumatic heart disease</td>\n",
       "      <td>xx% string match</td>\n",
       "      <td>NaN</td>\n",
       "      <td>NaN</td>\n",
       "      <td>NaN</td>\n",
       "      <td>Acne vulgaris</td>\n",
       "    </tr>\n",
       "  </tbody>\n",
       "</table>\n",
       "</div>"
      ],
      "text/plain": [
       "                               Public Title of Study  \\\n",
       "0  Study on complications of diabetes and risk of...   \n",
       "\n",
       "                         Cause1    Cause1 % Match             Cause2  \\\n",
       "0  Diabetes and kidney diseases  xx% string match  Diabetes mellitus   \n",
       "\n",
       "     Cause2 % Match                      Cause3    Cause3 % Match  \\\n",
       "0  xx% string match  Congenital heart anomalies  xx% string match   \n",
       "\n",
       "                       Cause4    Cause4 % Match                  Cause5  \\\n",
       "0  Hypertensive heart disease  xx% string match  Ischemic heart disease   \n",
       "\n",
       "     Cause5 % Match                                Cause6    Cause6 % Match  \\\n",
       "0  xx% string match  Non-rheumatic valvular heart disease  xx% string match   \n",
       "\n",
       "                    Cause7    Cause7 % Match  Cause 'n'  Cause 'n' % Match  \\\n",
       "0  Rheumatic heart disease  xx% string match        NaN                NaN   \n",
       "\n",
       "   Unnamed: 17 List of Causes  \n",
       "0          NaN  Acne vulgaris  "
      ]
     },
     "execution_count": 2,
     "metadata": {},
     "output_type": "execute_result"
    }
   ],
   "source": [
    "data=pd.read_excel('D:\\Data Science\\Interview question\\\\Study Title REV with Sample.xlsx')\n",
    "data.head(1)"
   ]
  },
  {
   "cell_type": "code",
   "execution_count": 3,
   "id": "2174c162",
   "metadata": {},
   "outputs": [
    {
     "data": {
      "text/html": [
       "<div>\n",
       "<style scoped>\n",
       "    .dataframe tbody tr th:only-of-type {\n",
       "        vertical-align: middle;\n",
       "    }\n",
       "\n",
       "    .dataframe tbody tr th {\n",
       "        vertical-align: top;\n",
       "    }\n",
       "\n",
       "    .dataframe thead th {\n",
       "        text-align: right;\n",
       "    }\n",
       "</style>\n",
       "<table border=\"1\" class=\"dataframe\">\n",
       "  <thead>\n",
       "    <tr style=\"text-align: right;\">\n",
       "      <th></th>\n",
       "      <th>Public Title of Study</th>\n",
       "      <th>List of Causes</th>\n",
       "    </tr>\n",
       "  </thead>\n",
       "  <tbody>\n",
       "    <tr>\n",
       "      <th>0</th>\n",
       "      <td>Study on complications of diabetes and risk of...</td>\n",
       "      <td>Acne vulgaris</td>\n",
       "    </tr>\n",
       "    <tr>\n",
       "      <th>1</th>\n",
       "      <td>Quality and outcomes in global cancer surgery.</td>\n",
       "      <td>Acute hepatitis</td>\n",
       "    </tr>\n",
       "  </tbody>\n",
       "</table>\n",
       "</div>"
      ],
      "text/plain": [
       "                               Public Title of Study   List of Causes\n",
       "0  Study on complications of diabetes and risk of...    Acne vulgaris\n",
       "1     Quality and outcomes in global cancer surgery.  Acute hepatitis"
      ]
     },
     "execution_count": 3,
     "metadata": {},
     "output_type": "execute_result"
    }
   ],
   "source": [
    "data[['Public Title of Study','List of Causes']].head(2)"
   ]
  },
  {
   "cell_type": "code",
   "execution_count": 4,
   "id": "8dd1862f",
   "metadata": {},
   "outputs": [],
   "source": [
    "count=0\n",
    "for i in data['Public Title of Study']:\n",
    "    for j in data['List of Causes']:\n",
    "        s=str(i).split()\n",
    "        if j in s:\n",
    "            count+=1\n",
    "percentage=count/len(data)"
   ]
  },
  {
   "cell_type": "code",
   "execution_count": 5,
   "id": "97053e68",
   "metadata": {},
   "outputs": [
    {
     "data": {
      "text/plain": [
       "0.00909090909090909"
      ]
     },
     "execution_count": 5,
     "metadata": {},
     "output_type": "execute_result"
    }
   ],
   "source": [
    "percentage"
   ]
  },
  {
   "cell_type": "markdown",
   "id": "3dafc7ac",
   "metadata": {},
   "source": [
    "### Please create code to label each study title (Column A) by matching text against the list of causes (Column S)"
   ]
  },
  {
   "cell_type": "code",
   "execution_count": 6,
   "id": "83a95b26",
   "metadata": {},
   "outputs": [
    {
     "name": "stdout",
     "output_type": "stream",
     "text": [
      "Effect of exposure to Hindustani Classical music on the cognitive functions of Patients with Stroke\tStroke\n",
      "Study of Cariprazine Capsules 6 mg in Schizophrenia or Bipolar disorder I patients.\tSchizophrenia\n",
      "Use of Statins for Narrowing of Blood Vessels in Stroke Patients\tStroke\n"
     ]
    }
   ],
   "source": [
    "count=0\n",
    "for i in data['Public Title of Study']:\n",
    "    for j in data['List of Causes']:\n",
    "        s=str(i).split()\n",
    "        if j in s:\n",
    "            print(i,j,sep='\\t')"
   ]
  },
  {
   "cell_type": "code",
   "execution_count": 7,
   "id": "c5ce32d1",
   "metadata": {},
   "outputs": [
    {
     "name": "stdout",
     "output_type": "stream",
     "text": [
      "Effect of exposure to Hindustani Classical music on the cognitive functions of Patients with Stroke\tStroke\n",
      "Study of Cariprazine Capsules 6 mg in Schizophrenia or Bipolar disorder I patients.\tSchizophrenia\n",
      "Use of Statins for Narrowing of Blood Vessels in Stroke Patients\tStroke\n"
     ]
    }
   ],
   "source": [
    "count=0\n",
    "for i in data['Public Title of Study']:\n",
    "    for j in data['List of Causes']:\n",
    "        s=str(i).split()\n",
    "        if j in s:\n",
    "            print(i,j,sep='\\t')"
   ]
  },
  {
   "cell_type": "code",
   "execution_count": 8,
   "id": "f021c193",
   "metadata": {},
   "outputs": [],
   "source": [
    "ind1=[]\n",
    "ind2=[]\n",
    "for i in data['Public Title of Study']:\n",
    "    for j in data['List of Causes']:\n",
    "        s=str(i).split()\n",
    "        if j in s:\n",
    "            ind1.append(data[data['Public Title of Study']==i].index.values)\n",
    "            ind2.append(data[data['List of Causes']==j].index.values)\n",
    "            "
   ]
  },
  {
   "cell_type": "code",
   "execution_count": 9,
   "id": "3ee31a8c",
   "metadata": {},
   "outputs": [
    {
     "name": "stdout",
     "output_type": "stream",
     "text": [
      "[array([218], dtype=int64), array([209], dtype=int64), array([218], dtype=int64)]\n",
      "\n",
      "[array([126], dtype=int64), array([133], dtype=int64), array([225], dtype=int64)]\n"
     ]
    }
   ],
   "source": [
    "print(ind2)\n",
    "print()\n",
    "print(ind1)"
   ]
  },
  {
   "cell_type": "code",
   "execution_count": 10,
   "id": "d19f1ac5",
   "metadata": {},
   "outputs": [],
   "source": [
    "data['Public Title of Study Labelled']=np.nan"
   ]
  },
  {
   "cell_type": "code",
   "execution_count": 11,
   "id": "e6215d87",
   "metadata": {},
   "outputs": [],
   "source": [
    "import warnings\n",
    "warnings.filterwarnings('ignore')\n",
    "for i in ind1:\n",
    "    for j in ind2:\n",
    "        data['Public Title of Study Labelled'][i]=data['List of Causes'][j]"
   ]
  },
  {
   "cell_type": "code",
   "execution_count": 12,
   "id": "6dbc38f9",
   "metadata": {},
   "outputs": [
    {
     "data": {
      "text/plain": [
       "Stroke    3\n",
       "Name: Public Title of Study Labelled, dtype: int64"
      ]
     },
     "execution_count": 12,
     "metadata": {},
     "output_type": "execute_result"
    }
   ],
   "source": [
    "data['Public Title of Study Labelled'].value_counts()"
   ]
  },
  {
   "cell_type": "code",
   "execution_count": null,
   "id": "e7a6488f",
   "metadata": {},
   "outputs": [],
   "source": []
  }
 ],
 "metadata": {
  "kernelspec": {
   "display_name": "Python 3 (ipykernel)",
   "language": "python",
   "name": "python3"
  },
  "language_info": {
   "codemirror_mode": {
    "name": "ipython",
    "version": 3
   },
   "file_extension": ".py",
   "mimetype": "text/x-python",
   "name": "python",
   "nbconvert_exporter": "python",
   "pygments_lexer": "ipython3",
   "version": "3.9.12"
  }
 },
 "nbformat": 4,
 "nbformat_minor": 5
}
